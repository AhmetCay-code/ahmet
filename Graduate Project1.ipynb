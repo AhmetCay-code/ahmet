{
 "cells": [
  {
   "cell_type": "code",
   "execution_count": 1,
   "metadata": {},
   "outputs": [],
   "source": [
    "import pandas as pd\n",
    "import numpy as np\n",
    "\n",
    "from sklearn import tree\n",
    "from sklearn.tree import DecisionTreeClassifier, export_graphviz\n",
    "from sklearn.model_selection import train_test_split\n",
    "from sklearn.metrics import classification_report\n",
    "from sklearn.metrics import confusion_matrix\n",
    "from PIL import Image\n",
    "\n",
    "from matplotlib import pyplot as plt\n",
    "import seaborn as sns\n",
    "\n",
    "import graphviz\n",
    "import pydotplus\n",
    "import io\n",
    "import imageio\n",
    "from scipy import misc\n",
    "\n",
    "%matplotlib inline"
   ]
  },
  {
   "cell_type": "markdown",
   "metadata": {},
   "source": [
    "## Necessary libraries are imported."
   ]
  },
  {
   "cell_type": "code",
   "execution_count": 2,
   "metadata": {},
   "outputs": [],
   "source": [
    "db = pd.read_csv(\"carbon_nanotubes.csv\", sep=';')"
   ]
  },
  {
   "cell_type": "code",
   "execution_count": 3,
   "metadata": {},
   "outputs": [
    {
     "data": {
      "text/html": [
       "<div>\n",
       "<style scoped>\n",
       "    .dataframe tbody tr th:only-of-type {\n",
       "        vertical-align: middle;\n",
       "    }\n",
       "\n",
       "    .dataframe tbody tr th {\n",
       "        vertical-align: top;\n",
       "    }\n",
       "\n",
       "    .dataframe thead th {\n",
       "        text-align: right;\n",
       "    }\n",
       "</style>\n",
       "<table border=\"1\" class=\"dataframe\">\n",
       "  <thead>\n",
       "    <tr style=\"text-align: right;\">\n",
       "      <th></th>\n",
       "      <th>Chiral indice n</th>\n",
       "      <th>Chiral indice m</th>\n",
       "      <th>Initial atomic coordinate u</th>\n",
       "      <th>Initial atomic coordinate v</th>\n",
       "      <th>Initial atomic coordinate w</th>\n",
       "      <th>Calculated atomic coordinates u'</th>\n",
       "      <th>Calculated atomic coordinates v'</th>\n",
       "      <th>Calculated atomic coordinates w'</th>\n",
       "    </tr>\n",
       "  </thead>\n",
       "  <tbody>\n",
       "    <tr>\n",
       "      <td>count</td>\n",
       "      <td>10721.000000</td>\n",
       "      <td>10721.000000</td>\n",
       "      <td>10721.000000</td>\n",
       "      <td>10721.000000</td>\n",
       "      <td>10721.000000</td>\n",
       "      <td>10721.000000</td>\n",
       "      <td>10721.000000</td>\n",
       "      <td>10721.000000</td>\n",
       "    </tr>\n",
       "    <tr>\n",
       "      <td>mean</td>\n",
       "      <td>8.225725</td>\n",
       "      <td>3.337189</td>\n",
       "      <td>0.500064</td>\n",
       "      <td>0.500072</td>\n",
       "      <td>0.499637</td>\n",
       "      <td>0.500064</td>\n",
       "      <td>0.500072</td>\n",
       "      <td>0.499834</td>\n",
       "    </tr>\n",
       "    <tr>\n",
       "      <td>std</td>\n",
       "      <td>2.138919</td>\n",
       "      <td>1.683881</td>\n",
       "      <td>0.286524</td>\n",
       "      <td>0.286495</td>\n",
       "      <td>0.288503</td>\n",
       "      <td>0.290935</td>\n",
       "      <td>0.291012</td>\n",
       "      <td>0.289095</td>\n",
       "    </tr>\n",
       "    <tr>\n",
       "      <td>min</td>\n",
       "      <td>2.000000</td>\n",
       "      <td>1.000000</td>\n",
       "      <td>0.045149</td>\n",
       "      <td>0.045149</td>\n",
       "      <td>0.000061</td>\n",
       "      <td>0.038504</td>\n",
       "      <td>0.038930</td>\n",
       "      <td>0.000000</td>\n",
       "    </tr>\n",
       "    <tr>\n",
       "      <td>25%</td>\n",
       "      <td>7.000000</td>\n",
       "      <td>2.000000</td>\n",
       "      <td>0.218041</td>\n",
       "      <td>0.217594</td>\n",
       "      <td>0.249483</td>\n",
       "      <td>0.213364</td>\n",
       "      <td>0.212922</td>\n",
       "      <td>0.249242</td>\n",
       "    </tr>\n",
       "    <tr>\n",
       "      <td>50%</td>\n",
       "      <td>8.000000</td>\n",
       "      <td>3.000000</td>\n",
       "      <td>0.500181</td>\n",
       "      <td>0.500297</td>\n",
       "      <td>0.500057</td>\n",
       "      <td>0.500538</td>\n",
       "      <td>0.500020</td>\n",
       "      <td>0.499755</td>\n",
       "    </tr>\n",
       "    <tr>\n",
       "      <td>75%</td>\n",
       "      <td>10.000000</td>\n",
       "      <td>5.000000</td>\n",
       "      <td>0.781959</td>\n",
       "      <td>0.782709</td>\n",
       "      <td>0.749191</td>\n",
       "      <td>0.786588</td>\n",
       "      <td>0.787161</td>\n",
       "      <td>0.749463</td>\n",
       "    </tr>\n",
       "    <tr>\n",
       "      <td>max</td>\n",
       "      <td>12.000000</td>\n",
       "      <td>6.000000</td>\n",
       "      <td>0.954851</td>\n",
       "      <td>0.954851</td>\n",
       "      <td>0.999411</td>\n",
       "      <td>0.961496</td>\n",
       "      <td>0.961070</td>\n",
       "      <td>1.000000</td>\n",
       "    </tr>\n",
       "  </tbody>\n",
       "</table>\n",
       "</div>"
      ],
      "text/plain": [
       "       Chiral indice n  Chiral indice m  Initial atomic coordinate u  \\\n",
       "count     10721.000000     10721.000000                 10721.000000   \n",
       "mean          8.225725         3.337189                     0.500064   \n",
       "std           2.138919         1.683881                     0.286524   \n",
       "min           2.000000         1.000000                     0.045149   \n",
       "25%           7.000000         2.000000                     0.218041   \n",
       "50%           8.000000         3.000000                     0.500181   \n",
       "75%          10.000000         5.000000                     0.781959   \n",
       "max          12.000000         6.000000                     0.954851   \n",
       "\n",
       "       Initial atomic coordinate v  Initial atomic coordinate w  \\\n",
       "count                 10721.000000                 10721.000000   \n",
       "mean                      0.500072                     0.499637   \n",
       "std                       0.286495                     0.288503   \n",
       "min                       0.045149                     0.000061   \n",
       "25%                       0.217594                     0.249483   \n",
       "50%                       0.500297                     0.500057   \n",
       "75%                       0.782709                     0.749191   \n",
       "max                       0.954851                     0.999411   \n",
       "\n",
       "       Calculated atomic coordinates u'  Calculated atomic coordinates v'  \\\n",
       "count                      10721.000000                      10721.000000   \n",
       "mean                           0.500064                          0.500072   \n",
       "std                            0.290935                          0.291012   \n",
       "min                            0.038504                          0.038930   \n",
       "25%                            0.213364                          0.212922   \n",
       "50%                            0.500538                          0.500020   \n",
       "75%                            0.786588                          0.787161   \n",
       "max                            0.961496                          0.961070   \n",
       "\n",
       "       Calculated atomic coordinates w'  \n",
       "count                      10721.000000  \n",
       "mean                           0.499834  \n",
       "std                            0.289095  \n",
       "min                            0.000000  \n",
       "25%                            0.249242  \n",
       "50%                            0.499755  \n",
       "75%                            0.749463  \n",
       "max                            1.000000  "
      ]
     },
     "execution_count": 3,
     "metadata": {},
     "output_type": "execute_result"
    }
   ],
   "source": [
    "db.describe()"
   ]
  },
  {
   "cell_type": "code",
   "execution_count": 4,
   "metadata": {},
   "outputs": [
    {
     "data": {
      "text/html": [
       "<div>\n",
       "<style scoped>\n",
       "    .dataframe tbody tr th:only-of-type {\n",
       "        vertical-align: middle;\n",
       "    }\n",
       "\n",
       "    .dataframe tbody tr th {\n",
       "        vertical-align: top;\n",
       "    }\n",
       "\n",
       "    .dataframe thead th {\n",
       "        text-align: right;\n",
       "    }\n",
       "</style>\n",
       "<table border=\"1\" class=\"dataframe\">\n",
       "  <thead>\n",
       "    <tr style=\"text-align: right;\">\n",
       "      <th></th>\n",
       "      <th>Chiral indice n</th>\n",
       "      <th>Chiral indice m</th>\n",
       "      <th>Initial atomic coordinate u</th>\n",
       "      <th>Initial atomic coordinate v</th>\n",
       "      <th>Initial atomic coordinate w</th>\n",
       "      <th>Calculated atomic coordinates u'</th>\n",
       "      <th>Calculated atomic coordinates v'</th>\n",
       "      <th>Calculated atomic coordinates w'</th>\n",
       "    </tr>\n",
       "  </thead>\n",
       "  <tbody>\n",
       "    <tr>\n",
       "      <td>0</td>\n",
       "      <td>2</td>\n",
       "      <td>1</td>\n",
       "      <td>0.679005</td>\n",
       "      <td>0.701318</td>\n",
       "      <td>0.017033</td>\n",
       "      <td>0.721039</td>\n",
       "      <td>0.730232</td>\n",
       "      <td>0.017014</td>\n",
       "    </tr>\n",
       "    <tr>\n",
       "      <td>1</td>\n",
       "      <td>2</td>\n",
       "      <td>1</td>\n",
       "      <td>0.717298</td>\n",
       "      <td>0.642129</td>\n",
       "      <td>0.231319</td>\n",
       "      <td>0.738414</td>\n",
       "      <td>0.656750</td>\n",
       "      <td>0.232369</td>\n",
       "    </tr>\n",
       "    <tr>\n",
       "      <td>2</td>\n",
       "      <td>2</td>\n",
       "      <td>1</td>\n",
       "      <td>0.489336</td>\n",
       "      <td>0.303751</td>\n",
       "      <td>0.088462</td>\n",
       "      <td>0.477676</td>\n",
       "      <td>0.263221</td>\n",
       "      <td>0.088712</td>\n",
       "    </tr>\n",
       "    <tr>\n",
       "      <td>3</td>\n",
       "      <td>2</td>\n",
       "      <td>1</td>\n",
       "      <td>0.413957</td>\n",
       "      <td>0.632996</td>\n",
       "      <td>0.040843</td>\n",
       "      <td>0.408823</td>\n",
       "      <td>0.657897</td>\n",
       "      <td>0.039796</td>\n",
       "    </tr>\n",
       "    <tr>\n",
       "      <td>4</td>\n",
       "      <td>2</td>\n",
       "      <td>1</td>\n",
       "      <td>0.334292</td>\n",
       "      <td>0.543401</td>\n",
       "      <td>0.159890</td>\n",
       "      <td>0.303349</td>\n",
       "      <td>0.558807</td>\n",
       "      <td>0.157373</td>\n",
       "    </tr>\n",
       "  </tbody>\n",
       "</table>\n",
       "</div>"
      ],
      "text/plain": [
       "   Chiral indice n  Chiral indice m  Initial atomic coordinate u  \\\n",
       "0                2                1                     0.679005   \n",
       "1                2                1                     0.717298   \n",
       "2                2                1                     0.489336   \n",
       "3                2                1                     0.413957   \n",
       "4                2                1                     0.334292   \n",
       "\n",
       "   Initial atomic coordinate v  Initial atomic coordinate w  \\\n",
       "0                     0.701318                     0.017033   \n",
       "1                     0.642129                     0.231319   \n",
       "2                     0.303751                     0.088462   \n",
       "3                     0.632996                     0.040843   \n",
       "4                     0.543401                     0.159890   \n",
       "\n",
       "   Calculated atomic coordinates u'  Calculated atomic coordinates v'  \\\n",
       "0                          0.721039                          0.730232   \n",
       "1                          0.738414                          0.656750   \n",
       "2                          0.477676                          0.263221   \n",
       "3                          0.408823                          0.657897   \n",
       "4                          0.303349                          0.558807   \n",
       "\n",
       "   Calculated atomic coordinates w'  \n",
       "0                          0.017014  \n",
       "1                          0.232369  \n",
       "2                          0.088712  \n",
       "3                          0.039796  \n",
       "4                          0.157373  "
      ]
     },
     "execution_count": 4,
     "metadata": {},
     "output_type": "execute_result"
    }
   ],
   "source": [
    "db.head()"
   ]
  },
  {
   "cell_type": "code",
   "execution_count": 5,
   "metadata": {},
   "outputs": [
    {
     "name": "stdout",
     "output_type": "stream",
     "text": [
      "<class 'pandas.core.frame.DataFrame'>\n",
      "RangeIndex: 10721 entries, 0 to 10720\n",
      "Data columns (total 8 columns):\n",
      "Chiral indice n                     10721 non-null int64\n",
      "Chiral indice m                     10721 non-null int64\n",
      "Initial atomic coordinate u         10721 non-null float64\n",
      "Initial atomic coordinate v         10721 non-null float64\n",
      "Initial atomic coordinate w         10721 non-null float64\n",
      "Calculated atomic coordinates u'    10721 non-null float64\n",
      "Calculated atomic coordinates v'    10721 non-null float64\n",
      "Calculated atomic coordinates w'    10721 non-null float64\n",
      "dtypes: float64(6), int64(2)\n",
      "memory usage: 670.2 KB\n"
     ]
    }
   ],
   "source": [
    "db.info()"
   ]
  },
  {
   "cell_type": "markdown",
   "metadata": {},
   "source": [
    "## The file with the csv extension was read and information about its content was shown."
   ]
  },
  {
   "cell_type": "code",
   "execution_count": 6,
   "metadata": {},
   "outputs": [],
   "source": [
    "train, test = train_test_split(db, test_size = 0.33)"
   ]
  },
  {
   "cell_type": "markdown",
   "metadata": {},
   "source": [
    "## From the total sample, it was determined how much part to use for the test."
   ]
  },
  {
   "cell_type": "code",
   "execution_count": 7,
   "metadata": {},
   "outputs": [
    {
     "name": "stdout",
     "output_type": "stream",
     "text": [
      "TRAINING SIZE: 7183;TEST SIZE:3538\n"
     ]
    }
   ],
   "source": [
    "print(\"TRAINING SIZE: {};TEST SIZE:{}\".format(len(train), len(test)))"
   ]
  },
  {
   "cell_type": "code",
   "execution_count": 8,
   "metadata": {},
   "outputs": [],
   "source": [
    "c = DecisionTreeClassifier(min_samples_split=2)"
   ]
  },
  {
   "cell_type": "code",
   "execution_count": 9,
   "metadata": {},
   "outputs": [],
   "source": [
    "features=[\"Chiral indice m\",\"Initial atomic coordinate u\",\"Initial atomic coordinate v\",\"Initial atomic coordinate w\",\"Calculated atomic coordinates u'\",\"Calculated atomic coordinates v'\",\"Calculated atomic coordinates w'\"]"
   ]
  },
  {
   "cell_type": "code",
   "execution_count": 10,
   "metadata": {},
   "outputs": [],
   "source": [
    "X_train=train[features]\n",
    "y_train=train[\"Chiral indice n\"]\n",
    "\n",
    "X_test=test[features]\n",
    "y_test=test[\"Chiral indice n\"]"
   ]
  },
  {
   "cell_type": "code",
   "execution_count": 11,
   "metadata": {},
   "outputs": [],
   "source": [
    "dt = c.fit(X_train,y_train)"
   ]
  },
  {
   "cell_type": "markdown",
   "metadata": {},
   "source": [
    "## The amount of sample that should be the minimum for a split to occur was determined. Then, the c constant was found with the decision tree classification. Training and test data were prepared for fitting."
   ]
  },
  {
   "cell_type": "code",
   "execution_count": 12,
   "metadata": {},
   "outputs": [],
   "source": [
    "def show_tree(tree,features,path):\n",
    "    f = io.StringIO()\n",
    "    export_graphviz(tree,out_file=f, feature_names=features),\n",
    "    pydotplus.graph_from_dot_data(f.getvalue()).write_png(path)\n",
    "    img= imageio.imread(path)\n",
    "    plt.rcParams[\"figure.figsize\"]= (20, 20)\n",
    "    plt.imshow(img)"
   ]
  },
  {
   "cell_type": "code",
   "execution_count": 13,
   "metadata": {},
   "outputs": [],
   "source": [
    "Image.MAX_IMAGE_PIXELS = None"
   ]
  },
  {
   "cell_type": "code",
   "execution_count": 14,
   "metadata": {},
   "outputs": [
    {
     "name": "stdout",
     "output_type": "stream",
     "text": [
      "dot: graph is too large for cairo-renderer bitmaps. Scaling by 0.463105 to fit\r\n",
      "\n"
     ]
    },
    {
     "data": {
      "image/png": "[encoded data removed]",
      "text/plain": [
       "<Figure size 1440x1440 with 1 Axes>"
      ]
     },
     "metadata": {
      "needs_background": "light"
     },
     "output_type": "display_data"
    }
   ],
   "source": [
    "show_tree(dt, features,'dec_tree_01.png')\n"
   ]
  },
  {
   "cell_type": "markdown",
   "metadata": {},
   "source": [
    "## Decision tree was drawn."
   ]
  },
  {
   "cell_type": "code",
   "execution_count": 15,
   "metadata": {},
   "outputs": [],
   "source": [
    "y_pred= c.predict(X_test)"
   ]
  },
  {
   "cell_type": "code",
   "execution_count": 16,
   "metadata": {},
   "outputs": [
    {
     "data": {
      "text/plain": [
       "array([ 8, 11,  7, ...,  5, 11, 10], dtype=int64)"
      ]
     },
     "execution_count": 16,
     "metadata": {},
     "output_type": "execute_result"
    }
   ],
   "source": [
    "y_pred"
   ]
  },
  {
   "cell_type": "code",
   "execution_count": 17,
   "metadata": {},
   "outputs": [],
   "source": [
    "from sklearn.metrics import accuracy_score\n",
    "\n",
    "score= accuracy_score(y_test, y_pred) * 100"
   ]
  },
  {
   "cell_type": "code",
   "execution_count": 18,
   "metadata": {},
   "outputs": [
    {
     "name": "stdout",
     "output_type": "stream",
     "text": [
      "ACCURACY_SCORE_USING_DECISION_TREE: 66.8 %\n"
     ]
    }
   ],
   "source": [
    "print(\"ACCURACY_SCORE_USING_DECISION_TREE:\",round(score,1),\"%\")"
   ]
  },
  {
   "cell_type": "code",
   "execution_count": 19,
   "metadata": {},
   "outputs": [],
   "source": [
    "report = classification_report(y_test, y_pred)"
   ]
  },
  {
   "cell_type": "code",
   "execution_count": 20,
   "metadata": {},
   "outputs": [
    {
     "name": "stdout",
     "output_type": "stream",
     "text": [
      "              precision    recall  f1-score   support\n",
      "\n",
      "           2       0.83      0.62      0.71         8\n",
      "           3       0.74      0.67      0.71        43\n",
      "           4       0.62      0.65      0.63        93\n",
      "           5       0.71      0.66      0.69       240\n",
      "           6       0.65      0.57      0.61       317\n",
      "           7       0.62      0.70      0.65       640\n",
      "           8       0.65      0.64      0.65       608\n",
      "           9       0.65      0.64      0.65       539\n",
      "          10       0.69      0.70      0.69       516\n",
      "          11       0.71      0.72      0.72       207\n",
      "          12       0.77      0.72      0.75       327\n",
      "\n",
      "    accuracy                           0.67      3538\n",
      "   macro avg       0.70      0.66      0.68      3538\n",
      "weighted avg       0.67      0.67      0.67      3538\n",
      "\n"
     ]
    }
   ],
   "source": [
    "print(report)"
   ]
  },
  {
   "cell_type": "code",
   "execution_count": 21,
   "metadata": {},
   "outputs": [
    {
     "name": "stdout",
     "output_type": "stream",
     "text": [
      "[[  5   3   0   0   0   0   0   0   0   0   0]\n",
      " [  1  29  12   0   0   0   0   0   0   1   0]\n",
      " [  0   4  60  22   2   3   2   0   0   0   0]\n",
      " [  0   3  22 158  26  23   2   1   3   0   2]\n",
      " [  0   0   1  26 180  93  14   2   1   0   0]\n",
      " [  0   0   0  11  42 445  91  33  17   0   1]\n",
      " [  0   0   1   1  21 115 392  51  24   0   3]\n",
      " [  0   0   0   3   1  25  72 347  73   4  14]\n",
      " [  0   0   0   0   5  13  27  80 362  17  12]\n",
      " [  0   0   0   0   0   1   0   0  19 149  38]\n",
      " [  0   0   0   0   0   2   4  19  27  38 237]]\n"
     ]
    }
   ],
   "source": [
    "matrix = confusion_matrix(y_test, y_pred)\n",
    "print(matrix)"
   ]
  },
  {
   "cell_type": "markdown",
   "metadata": {},
   "source": [
    "## Accuracy rate,confusion matrix and classification report found."
   ]
  }
 ],
 "metadata": {
  "kernelspec": {
   "display_name": "Python 3",
   "language": "python",
   "name": "python3"
  },
  "language_info": {
   "codemirror_mode": {
    "name": "ipython",
    "version": 3
   },
   "file_extension": ".py",
   "mimetype": "text/x-python",
   "name": "python",
   "nbconvert_exporter": "python",
   "pygments_lexer": "ipython3",
   "version": "3.7.4"
  }
 },
 "nbformat": 4,
 "nbformat_minor": 2
}
