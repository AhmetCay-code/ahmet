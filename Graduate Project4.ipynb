{
 "cells": [
  {
   "cell_type": "code",
   "execution_count": 1,
   "metadata": {},
   "outputs": [],
   "source": [
    "import pandas as pd\n",
    "import numpy as np\n",
    "from pandas import Series, DataFrame\n",
    "from sklearn.preprocessing import scale\n",
    "\n",
    "from sklearn import tree\n",
    "from sklearn.tree import DecisionTreeClassifier, export_graphviz\n",
    "from sklearn.linear_model import LogisticRegression\n",
    "from sklearn.svm import SVC\n",
    "from sklearn.ensemble import RandomForestClassifier\n",
    "from sklearn.model_selection import train_test_split\n",
    "from sklearn.metrics import classification_report\n",
    "from sklearn.metrics import confusion_matrix\n",
    "from PIL import Image\n",
    "from sklearn.metrics import accuracy_score\n",
    "\n",
    "import statsmodels.api as sm\n",
    "from statsmodels.formula.api import ols\n",
    "from statsmodels.stats.anova import anova_lm\n",
    "\n",
    "from matplotlib import pyplot as plt\n",
    "import seaborn as sns\n",
    "\n",
    "import graphviz\n",
    "import pydotplus\n",
    "import io\n",
    "import imageio\n",
    "from scipy import misc\n",
    "\n",
    "%matplotlib inline"
   ]
  },
  {
   "cell_type": "code",
   "execution_count": 2,
   "metadata": {},
   "outputs": [],
   "source": [
    "database = pd.read_csv(\"data.csv\", sep=';')\n"
   ]
  },
  {
   "cell_type": "code",
   "execution_count": 3,
   "metadata": {},
   "outputs": [],
   "source": [
    "X = database.drop([\"MUSK\",\"168\"],axis=1)\n",
    "y = database['168']\n",
    "X_train, X_test, y_train, y_test = train_test_split(X, y,test_size=0.10 )"
   ]
  },
  {
   "cell_type": "markdown",
   "metadata": {},
   "source": [
    "# DECISION TREE"
   ]
  },
  {
   "cell_type": "code",
   "execution_count": 4,
   "metadata": {},
   "outputs": [
    {
     "name": "stdout",
     "output_type": "stream",
     "text": [
      "96.96969696969697\n",
      "              precision    recall  f1-score   support\n",
      "\n",
      "         0.0       0.98      0.98      0.98       551\n",
      "         1.0       0.92      0.90      0.91       109\n",
      "\n",
      "    accuracy                           0.97       660\n",
      "   macro avg       0.95      0.94      0.94       660\n",
      "weighted avg       0.97      0.97      0.97       660\n",
      "\n",
      "[[542   9]\n",
      " [ 11  98]]\n"
     ]
    }
   ],
   "source": [
    "dt = DecisionTreeClassifier()\n",
    "dt.fit(X_train, y_train)\n",
    "y_pred = dt.predict(X_test)\n",
    "score= accuracy_score(y_test, y_pred) * 100\n",
    "print(score)\n",
    "report_dt=classification_report(y_test, y_pred)\n",
    "print(report_dt)\n",
    "print(confusion_matrix(y_test,y_pred))"
   ]
  },
  {
   "cell_type": "markdown",
   "metadata": {},
   "source": [
    "# LOGISTIC REGRESSION\n"
   ]
  },
  {
   "cell_type": "code",
   "execution_count": 5,
   "metadata": {},
   "outputs": [
    {
     "name": "stdout",
     "output_type": "stream",
     "text": [
      "94.54545454545455\n",
      "              precision    recall  f1-score   support\n",
      "\n",
      "         0.0       0.96      0.97      0.97       551\n",
      "         1.0       0.85      0.81      0.83       109\n",
      "\n",
      "    accuracy                           0.95       660\n",
      "   macro avg       0.91      0.89      0.90       660\n",
      "weighted avg       0.94      0.95      0.94       660\n",
      "\n",
      "[[536  15]\n",
      " [ 21  88]]\n"
     ]
    }
   ],
   "source": [
    "logreg=LogisticRegression(solver='liblinear',multi_class='ovr')\n",
    "logreg.fit(X_train,y_train)\n",
    "y_pred = logreg.predict(X_test)\n",
    "score= accuracy_score(y_test, y_pred) * 100\n",
    "print(score)\n",
    "report_logreg=classification_report(y_test, y_pred)\n",
    "print(report_logreg)\n",
    "print(confusion_matrix(y_test,y_pred))"
   ]
  },
  {
   "cell_type": "markdown",
   "metadata": {},
   "source": [
    "# RANDOM FOREST"
   ]
  },
  {
   "cell_type": "code",
   "execution_count": 6,
   "metadata": {},
   "outputs": [
    {
     "name": "stdout",
     "output_type": "stream",
     "text": [
      "97.87878787878788\n",
      "              precision    recall  f1-score   support\n",
      "\n",
      "         0.0       0.98      1.00      0.99       551\n",
      "         1.0       0.99      0.88      0.93       109\n",
      "\n",
      "    accuracy                           0.98       660\n",
      "   macro avg       0.98      0.94      0.96       660\n",
      "weighted avg       0.98      0.98      0.98       660\n",
      "\n",
      "[[550   1]\n",
      " [ 13  96]]\n"
     ]
    }
   ],
   "source": [
    "rf = RandomForestClassifier(n_estimators=100, random_state=0, n_jobs = -1)\n",
    "rf.fit(X_train, y_train)\n",
    "y_pred = rf.predict(X_test)\n",
    "score= accuracy_score(y_test, y_pred) * 100\n",
    "print(score)\n",
    "report_rf=classification_report(y_test, y_pred)\n",
    "print(report_rf)\n",
    "print(confusion_matrix(y_test,y_pred))"
   ]
  },
  {
   "cell_type": "markdown",
   "metadata": {},
   "source": [
    "# SVM"
   ]
  },
  {
   "cell_type": "code",
   "execution_count": 7,
   "metadata": {},
   "outputs": [
    {
     "name": "stdout",
     "output_type": "stream",
     "text": [
      "88.93939393939394\n",
      "              precision    recall  f1-score   support\n",
      "\n",
      "         0.0       0.88      1.00      0.94       551\n",
      "         1.0       1.00      0.33      0.50       109\n",
      "\n",
      "    accuracy                           0.89       660\n",
      "   macro avg       0.94      0.67      0.72       660\n",
      "weighted avg       0.90      0.89      0.86       660\n",
      "\n",
      "[[551   0]\n",
      " [ 73  36]]\n"
     ]
    }
   ],
   "source": [
    "svm = SVC(gamma='auto')\n",
    "svm.fit(X_train, y_train)\n",
    "y_pred = svm.predict(X_test)\n",
    "score= accuracy_score(y_test, y_pred) * 100\n",
    "print(score)\n",
    "report_svm=classification_report(y_test, y_pred)\n",
    "print(report_svm)\n",
    "print(confusion_matrix(y_test,y_pred))\n",
    "    "
   ]
  },
  {
   "cell_type": "markdown",
   "metadata": {},
   "source": [
    "# CROSS VALIDATIONS / 10 - FOLD"
   ]
  },
  {
   "cell_type": "code",
   "execution_count": 8,
   "metadata": {},
   "outputs": [
    {
     "name": "stdout",
     "output_type": "stream",
     "text": [
      "DECISION_TREE: 0.7956843818755462\n",
      "LOGISTIC_REGRESSION: 0.810538347160688\n",
      "SUPPORT_VECTOR_MACHINES: 0.8498232889618315\n",
      "RANDOM_FOREST: 0.7960277634413135\n"
     ]
    }
   ],
   "source": [
    "from sklearn.model_selection import cross_val_score\n",
    "print(\"DECISION_TREE:\" ,cross_val_score(DecisionTreeClassifier(), X, y, cv=10, scoring =\"accuracy\").mean())\n",
    "print(\"LOGISTIC_REGRESSION:\" ,cross_val_score(LogisticRegression(solver='liblinear',multi_class='ovr'), X, y,cv=10, scoring = \"accuracy\").mean())\n",
    "print(\"SUPPORT_VECTOR_MACHINES:\" ,cross_val_score(SVC(gamma='auto'), X, y, cv=10, scoring =\"accuracy\").mean())\n",
    "print(\"RANDOM_FOREST:\" ,cross_val_score(RandomForestClassifier(n_estimators=40), X, y, cv=10, scoring =\"accuracy\").mean())\n"
   ]
  },
  {
   "cell_type": "code",
   "execution_count": null,
   "metadata": {},
   "outputs": [],
   "source": []
  }
 ],
 "metadata": {
  "kernelspec": {
   "display_name": "Python 3",
   "language": "python",
   "name": "python3"
  },
  "language_info": {
   "codemirror_mode": {
    "name": "ipython",
    "version": 3
   },
   "file_extension": ".py",
   "mimetype": "text/x-python",
   "name": "python",
   "nbconvert_exporter": "python",
   "pygments_lexer": "ipython3",
   "version": "3.7.4"
  }
 },
 "nbformat": 4,
 "nbformat_minor": 2
}
